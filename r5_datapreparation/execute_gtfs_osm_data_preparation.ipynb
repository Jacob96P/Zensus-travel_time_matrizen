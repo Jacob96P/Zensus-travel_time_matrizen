{
 "cells": [
  {
   "cell_type": "markdown",
   "metadata": {},
   "source": [
    "# r5 Data Preparation\n",
    "\n",
    "* Uses methods from \"./r5_data_preparation.py\" to prep data for the computation of Travel-Time Matrices with r5.\n",
    "  \n",
    "* That includes:\n",
    "    * Download **OSM-Network Data** (.pbf) and cut it via BoundingBox (shapely.polygon e.g. WKT)\n",
    "        * https://download.geofabrik.de\n",
    "    * Export gtfs Geometries to gpkg\n",
    "\n",
    "* For **filtering GTFS-Data** use the R-Skript, experiments with Python module \"gtfs-kit\" were not successful and caused errors with r5-engine"
   ]
  },
  {
   "cell_type": "code",
   "execution_count": 1,
   "metadata": {},
   "outputs": [],
   "source": [
    "import os\n",
    "import geopandas as gpd\n",
    "\n",
    "# del sys.modules[\"r5_data_preparation\"]\n",
    "from r5_data_preparation import (\n",
    "    OSM_PBF_zuschneiden,\n",
    "    buffer_geometries,\n",
    "    GTFS_to_gpkg\n",
    ")"
   ]
  },
  {
   "cell_type": "code",
   "execution_count": 2,
   "metadata": {},
   "outputs": [],
   "source": [
    "# pfade aus config holen\n",
    "# init configParser and open file\n",
    "repoDirectoryPath = ''\n",
    "\n",
    "Kreise_MRH_Zensus = os.path.join(repoDirectoryPath, '')\n",
    "gdf_kreise = gpd.GeoDataFrame.from_file(Kreise_MRH_Zensus)"
   ]
  },
  {
   "cell_type": "markdown",
   "metadata": {},
   "source": [
    "## OSM Network Data laden und auf Kreise zuschneiden"
   ]
  },
  {
   "cell_type": "code",
   "execution_count": null,
   "metadata": {},
   "outputs": [],
   "source": [
    "# falls noch nicht geschehen kann so die osm-pbf--Dateien für ein Bundesland geladen werden\n",
    "fp = pyrosm.get_data(bundesland, update=False,directory=download_directory)\n"
   ]
  },
  {
   "cell_type": "code",
   "execution_count": null,
   "metadata": {},
   "outputs": [],
   "source": [
    "out_dir = os.path.join(repoDirectoryPath, 'Daten/Output/Netzwerk/zugeschnitten/MRH')\n",
    "\n",
    "for index, row in gdf_kreise.iterrows():\n",
    "\n",
    "    kreis = gpd.GeoDataFrame([row], columns=gdf_kreise.columns, crs=gdf_kreise.crs)\n",
    "    kreis_buffered = buffer_geometries(kreis, 20)   # buffer von 20km damit auch mittellange strecken aus dem kreis gefahren werden können\n",
    "    \n",
    "    if kreis['AGS'].iloc[0][:2] == '01':    #SH\n",
    "        in_pbf = os.path.join(repoDirectoryPath, '/Netzwerk/osm/schleswig-holstein-latest.osm.pbf')\n",
    "    elif kreis['AGS'].iloc[0][:2] == '02':  # Ham\n",
    "        in_pbf = os.path.join(repoDirectoryPath, '/Netzwerk/osm/Hamburg.osm.pbf')\n",
    "    elif kreis['AGS'].iloc[0][:2] == '03':  # Niedersachsen\n",
    "        in_pbf = os.path.join(repoDirectoryPath, '/Netzwerk/osm/niedersachsen-latest.osm.pbf')\n",
    "    elif kreis['AGS'].iloc[0][:2] == '13':  # MckPomm\n",
    "        in_pbf = os.path.join(repoDirectoryPath, '/Netzwerk/osm/mecklenburg-vorpommern-latest.osm.pbf')\n",
    "\n",
    "    result = OSM_PBF_zuschneiden(name_kreis = kreis['GEN'].iloc[0], \n",
    "                        bounding_gdf = kreis_buffered, \n",
    "                        in_pbf = in_pbf, \n",
    "                        out_dir = out_dir, \n",
    "                        export_to_gpkg=True)\n",
    "    \n",
    "    if result.returncode == 0:\n",
    "        print(f'Zugeschnittenes pbf-File unter {result.args[8]} abgelegt')\n",
    "    else:\n",
    "        print(f\"Fehler bei Osmium extract: {result.stderr}\")\n"
   ]
  },
  {
   "cell_type": "markdown",
   "metadata": {},
   "source": [
    "## Export GTFS to gpkg"
   ]
  },
  {
   "cell_type": "code",
   "execution_count": 6,
   "metadata": {},
   "outputs": [
    {
     "name": "stdout",
     "output_type": "stream",
     "text": [
      "GPKGs gespeichert: Lübeck\n",
      "GPKGs gespeichert: Neumünster\n",
      "GPKGs gespeichert: Dithmarschen\n",
      "GPKGs gespeichert: Herzogtum Lauenburg\n",
      "GPKGs gespeichert: Ostholstein\n",
      "GPKGs gespeichert: Pinneberg\n",
      "GPKGs gespeichert: Segeberg\n",
      "GPKGs gespeichert: Steinburg\n",
      "GPKGs gespeichert: Stormarn\n",
      "GPKGs gespeichert: Hamburg\n",
      "GPKGs gespeichert: Cuxhaven\n",
      "GPKGs gespeichert: Harburg\n",
      "GPKGs gespeichert: Lüchow-Dannenberg\n",
      "GPKGs gespeichert: Lüneburg\n",
      "GPKGs gespeichert: Rotenburg (Wümme)\n",
      "GPKGs gespeichert: Heidekreis\n",
      "GPKGs gespeichert: Stade\n",
      "GPKGs gespeichert: Uelzen\n",
      "GPKGs gespeichert: Schwerin\n",
      "GPKGs gespeichert: Nordwestmecklenburg\n",
      "GPKGs gespeichert: Ludwigslust-Parchim\n"
     ]
    }
   ],
   "source": [
    "types = ['routes','shapes','trips','stops']\n",
    "for index, row in gdf_kreise.iterrows():\n",
    "    name_kreis = row['GEN']\n",
    "    in_gtfs_zip = os.path.join(repoDirectoryPath, f'Daten/Output/GTFS/zugeschnitten/MRH/DELFI/DELFI_gtfs_filtered_{name_kreis}.zip')\n",
    "    out_dir = os.path.join(repoDirectoryPath, f'Daten/Output/GTFS/gpkg/DELFI_gtfs_filtered_{name_kreis}')\n",
    "    print(f'GPKGs gespeichert: {name_kreis}')\n",
    "    GTFS_to_gpkg(in_gtfs_zip, out_dir, types)"
   ]
  }
 ],
 "metadata": {
  "kernelspec": {
   "display_name": "venv",
   "language": "python",
   "name": "python3"
  },
  "language_info": {
   "codemirror_mode": {
    "name": "ipython",
    "version": 3
   },
   "file_extension": ".py",
   "mimetype": "text/x-python",
   "name": "python",
   "nbconvert_exporter": "python",
   "pygments_lexer": "ipython3",
   "version": "3.12.7"
  }
 },
 "nbformat": 4,
 "nbformat_minor": 2
}
